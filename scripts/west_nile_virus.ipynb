{
 "cells": [
  {
   "cell_type": "code",
   "execution_count": 1,
   "metadata": {
    "collapsed": true
   },
   "outputs": [],
   "source": [
    "import pandas as pd\n",
    "import numpy as np\n",
    "from sklearn.svm import SVC\n",
    "from sklearn import ensemble, preprocessing\n",
    "from sklearn.tree import DecisionTreeClassifier\n",
    "from sklearn.preprocessing import StandardScaler\n",
    "from sklearn.metrics import roc_auc_score, roc_curve\n",
    "from sklearn.metrics import confusion_matrix\n",
    "import matplotlib.pyplot as plt\n",
    "\n",
    "# Load dataset \n",
    "train = pd.read_csv('../input/train.csv')\n",
    "weather = pd.read_csv('../input/weather.csv')"
   ]
  },
  {
   "cell_type": "code",
   "execution_count": 2,
   "metadata": {},
   "outputs": [],
   "source": [
    "labels = train.WnvPresent.values\n",
    "\n",
    "# Not using codesum for this benchmark\n",
    "weather = weather.drop('CodeSum', axis=1)\n",
    "\n",
    "# Split station 1 and 2 and join horizontally\n",
    "weather_stn1 = weather[weather['Station']==1]\n",
    "weather_stn2 = weather[weather['Station']==2]\n",
    "weather_stn1 = weather_stn1.drop('Station', axis=1)\n",
    "weather_stn2 = weather_stn2.drop('Station', axis=1)\n",
    "weather = weather_stn1.merge(weather_stn2, on='Date')\n",
    "\n",
    "# replace some missing values and T with -1\n",
    "weather = weather.replace('M', -1)\n",
    "weather = weather.replace('-', -1)\n",
    "weather = weather.replace('T', -1)\n",
    "weather = weather.replace(' T', -1)\n",
    "weather = weather.replace('  T', -1)"
   ]
  },
  {
   "cell_type": "code",
   "execution_count": 3,
   "metadata": {
    "collapsed": true
   },
   "outputs": [],
   "source": [
    "# Functions to extract month and day from dataset\n",
    "# You can also use parse_dates of Pandas.\n",
    "def create_year(x):\n",
    "    return x.split('-')[0]\n",
    "\n",
    "def create_month(x):\n",
    "    return x.split('-')[1]\n",
    "\n",
    "def create_day(x):\n",
    "    return x.split('-')[2]\n",
    "\n",
    "train['year'] = train.Date.apply(create_year)\n",
    "train['month'] = train.Date.apply(create_month)\n",
    "train['day'] = train.Date.apply(create_day)\n",
    "\n",
    "\n",
    "# drop address columns\n",
    "train = train.drop(['Address', 'AddressNumberAndStreet','WnvPresent'], axis = 1)"
   ]
  },
  {
   "cell_type": "code",
   "execution_count": 4,
   "metadata": {},
   "outputs": [],
   "source": [
    "# Merge with weather data\n",
    "train = train.merge(weather, on='Date')\n",
    "train = train.drop(['Date'], axis = 1)\n",
    "\n",
    "# Convert categorical data to numbers\n",
    "lbl = preprocessing.LabelEncoder()\n",
    "lbl.fit(list(train['Species'].values))\n",
    "train['Species'] = lbl.transform(train['Species'].values)\n",
    "\n",
    "lbl.fit(list(train['Street'].values)) \n",
    "train['Street'] = lbl.transform(train['Street'].values)\n",
    "\n",
    "lbl.fit(list(train['Trap'].values))\n",
    "train['Trap'] = lbl.transform(train['Trap'].values)"
   ]
  },
  {
   "cell_type": "code",
   "execution_count": 5,
   "metadata": {},
   "outputs": [],
   "source": [
    "# drop columns with -1s\n",
    "train = train.loc[:,(train != -1).any(axis=0)]"
   ]
  },
  {
   "cell_type": "code",
   "execution_count": 6,
   "metadata": {},
   "outputs": [],
   "source": [
    "train = train.loc[:, [\"Species\", \"Tmax_x\", \"PrecipTotal_x\", \"month\", \"day\", \"year\", \"NumMosquitos\", 'Latitude', 'Longitude']]"
   ]
  },
  {
   "cell_type": "markdown",
   "metadata": {},
   "source": [
    "## Train Test split based on year and train classifiers"
   ]
  },
  {
   "cell_type": "code",
   "execution_count": 7,
   "metadata": {},
   "outputs": [
    {
     "name": "stdout",
     "output_type": "stream",
     "text": [
      "decision tree 2009 0.730682086382\n",
      "decision tree 2011 0.670909873582\n",
      "decision tree 2007 0.714096835368\n",
      "decision tree 2013 0.725765546566\n"
     ]
    }
   ],
   "source": [
    "preds = dict()\n",
    "for year in set(train.year):\n",
    "    X_train = train.loc[train.year.values != year] \n",
    "    X_test  = train.loc[train.year.values == year] \n",
    "    y_train = labels[train.year != year]\n",
    "    y_test  = labels[train.year == year]\n",
    "    X_train = X_train.drop(['year'], axis = 1)\n",
    "    X_test = X_test.drop(['year'], axis = 1)\n",
    "    clf = DecisionTreeClassifier(random_state=42, max_depth=8, min_samples_split = 3)\n",
    "    clf.fit(X_train, y_train)\n",
    "    predictions = clf.predict_proba(X_test)[:,1]\n",
    "    roc_auc = roc_auc_score(y_test, predictions)\n",
    "    preds[year] = (y_test, predictions, roc_auc)\n",
    "    print \"decision tree\", year, roc_auc"
   ]
  },
  {
   "cell_type": "code",
   "execution_count": 8,
   "metadata": {},
   "outputs": [
    {
     "name": "stdout",
     "output_type": "stream",
     "text": [
      "rf 2009 0.685520415388\n",
      "rf 2011 0.791770989818\n",
      "rf 2007 0.764617755126\n",
      "rf 2013 0.796307380769\n"
     ]
    }
   ],
   "source": [
    "preds = dict()\n",
    "for year in set(train.year):\n",
    "    X_train = train.loc[train.year.values != year] \n",
    "    X_test  = train.loc[train.year.values == year] \n",
    "    y_train = labels[train.year != year]\n",
    "    y_test  = labels[train.year == year]\n",
    "    X_train = X_train.drop(['year'], axis = 1)\n",
    "    X_test = X_test.drop(['year'], axis = 1)\n",
    "    clf = ensemble.RandomForestClassifier(n_jobs=-1, n_estimators=1000, min_samples_split=3)\n",
    "    clf.fit(X_train, y_train)\n",
    "    predictions = clf.predict_proba(X_test)[:,1]\n",
    "    roc_auc = roc_auc_score(y_test, predictions)\n",
    "    preds[year] = (y_test, predictions, roc_auc)\n",
    "    print \"rf\", year, roc_auc"
   ]
  },
  {
   "cell_type": "code",
   "execution_count": 9,
   "metadata": {},
   "outputs": [
    {
     "data": {
      "image/png": "[encoded data removed]",
      "text/plain": [
       "<matplotlib.figure.Figure at 0x10e9cd0d0>"
      ]
     },
     "metadata": {},
     "output_type": "display_data"
    }
   ],
   "source": [
    "fpr, tpr, threshold = roc_curve(preds['2009'][0], preds['2009'][1])\n",
    "\n",
    "plt.title('Receiver Operating Characteristic')\n",
    "plt.plot(fpr, tpr, 'b', label = 'AUC = %0.2f' % preds['2009'][2])\n",
    "plt.legend(loc = 'lower right')\n",
    "plt.plot([0, 1], [0, 1],'r--')\n",
    "plt.xlim([0, 1])\n",
    "plt.ylim([0, 1])\n",
    "plt.ylabel('True Positive Rate')\n",
    "plt.xlabel('False Positive Rate')\n",
    "plt.show()"
   ]
  },
  {
   "cell_type": "code",
   "execution_count": 10,
   "metadata": {},
   "outputs": [
    {
     "name": "stdout",
     "output_type": "stream",
     "text": [
      "linear svm 2009 0.456761859806\n",
      "linear svm 2011 0.577633994852\n",
      "linear svm 2007 0.405414839398\n",
      "linear svm 2013 0.433969726003\n"
     ]
    }
   ],
   "source": [
    "preds = dict()\n",
    "for year in set(train.year):\n",
    "    X_train = train.loc[train.year.values != year] \n",
    "    X_test  = train.loc[train.year.values == year] \n",
    "    y_train = labels[train.year != year]\n",
    "    y_test  = labels[train.year == year]\n",
    "    X_train = X_train.drop(['year'], axis = 1)\n",
    "    X_test = X_test.drop(['year'], axis = 1)\n",
    "    # Standarizing each column\n",
    "    column_names = X_train.columns\n",
    "    scaler = StandardScaler()\n",
    "    scaler.fit(X_train)\n",
    "    X_train = scaler.transform(X_train)\n",
    "    X_test = scaler.transform(X_test)\n",
    "    X_train = pd.DataFrame(X_train)\n",
    "    X_test = pd.DataFrame(X_test)\n",
    "    X_train.columns = column_names\n",
    "    X_test.columns = column_names\n",
    "    # modeling with linear svm\n",
    "    svm_model = SVC(kernel='linear', probability = True, random_state = 42)\n",
    "    svm_model.fit(X_train, y_train)\n",
    "    predictions = svm_model.predict_proba(X_test)[:,1]\n",
    "    roc_auc = roc_auc_score(y_test, predictions)\n",
    "    preds[year] = (y_test, predictions, roc_auc)\n",
    "    print \"linear svm\", year, roc_auc"
   ]
  },
  {
   "cell_type": "code",
   "execution_count": 11,
   "metadata": {},
   "outputs": [
    {
     "data": {
      "image/png": "[encoded data removed]",
      "text/plain": [
       "<matplotlib.figure.Figure at 0x10323b290>"
      ]
     },
     "metadata": {},
     "output_type": "display_data"
    }
   ],
   "source": [
    "fpr, tpr, threshold = roc_curve(preds['2009'][0], preds['2009'][1])\n",
    "\n",
    "plt.title('Receiver Operating Characteristic')\n",
    "plt.plot(fpr, tpr, 'b', label = 'AUC = %0.2f' % preds['2009'][2])\n",
    "plt.legend(loc = 'lower right')\n",
    "plt.plot([0, 1], [0, 1],'r--')\n",
    "plt.xlim([0, 1])\n",
    "plt.ylim([0, 1])\n",
    "plt.ylabel('True Positive Rate')\n",
    "plt.xlabel('False Positive Rate')\n",
    "plt.show()"
   ]
  }
 ],
 "metadata": {
  "kernelspec": {
   "display_name": "Python 2",
   "language": "python",
   "name": "python2"
  },
  "language_info": {
   "codemirror_mode": {
    "name": "ipython",
    "version": 2
   },
   "file_extension": ".py",
   "mimetype": "text/x-python",
   "name": "python",
   "nbconvert_exporter": "python",
   "pygments_lexer": "ipython2",
   "version": "2.7.13"
  }
 },
 "nbformat": 4,
 "nbformat_minor": 2
}
